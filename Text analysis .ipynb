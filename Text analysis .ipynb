{
 "cells": [
  {
   "cell_type": "markdown",
   "id": "71524dac",
   "metadata": {},
   "source": [
    "# <center>Simple WhatsApp Conversation Analysis </center>\n"
   ]
  },
  {
   "cell_type": "code",
   "execution_count": 58,
   "id": "2d6aba89",
   "metadata": {},
   "outputs": [],
   "source": [
    "import regex\n",
    "import pandas as pd\n",
    "import numpy as np\n",
    "import emoji\n",
    "from collections import Counter\n",
    "import matplotlib.pyplot as plt\n",
    "from wordcloud import WordCloud, STOPWORDS, ImageColorGenerator"
   ]
  },
  {
   "cell_type": "code",
   "execution_count": 60,
   "id": "aeeb21b1",
   "metadata": {},
   "outputs": [
    {
     "data": {
      "text/html": [
       "<div>\n",
       "<style scoped>\n",
       "    .dataframe tbody tr th:only-of-type {\n",
       "        vertical-align: middle;\n",
       "    }\n",
       "\n",
       "    .dataframe tbody tr th {\n",
       "        vertical-align: top;\n",
       "    }\n",
       "\n",
       "    .dataframe thead th {\n",
       "        text-align: right;\n",
       "    }\n",
       "</style>\n",
       "<table border=\"1\" class=\"dataframe\">\n",
       "  <thead>\n",
       "    <tr style=\"text-align: right;\">\n",
       "      <th></th>\n",
       "      <th>Date</th>\n",
       "      <th>Time</th>\n",
       "      <th>Sender</th>\n",
       "      <th>Message</th>\n",
       "    </tr>\n",
       "  </thead>\n",
       "  <tbody>\n",
       "    <tr>\n",
       "      <th>0</th>\n",
       "      <td>4/4/22</td>\n",
       "      <td>1:14:12 pm</td>\n",
       "      <td>Sasha</td>\n",
       "      <td>‎Messages and calls are end-to-end encrypted. ...</td>\n",
       "    </tr>\n",
       "    <tr>\n",
       "      <th>1</th>\n",
       "      <td>4/4/22</td>\n",
       "      <td>1:14:12 pm</td>\n",
       "      <td>Sasha</td>\n",
       "      <td>s3912063@student.rmit.edu.au</td>\n",
       "    </tr>\n",
       "    <tr>\n",
       "      <th>2</th>\n",
       "      <td>22/4/22</td>\n",
       "      <td>12:23:07 am</td>\n",
       "      <td>RA</td>\n",
       "      <td>Sasha</td>\n",
       "    </tr>\n",
       "    <tr>\n",
       "      <th>3</th>\n",
       "      <td>22/4/22</td>\n",
       "      <td>7:05:15 am</td>\n",
       "      <td>Sasha</td>\n",
       "      <td>Hii</td>\n",
       "    </tr>\n",
       "    <tr>\n",
       "      <th>4</th>\n",
       "      <td>22/4/22</td>\n",
       "      <td>7:05:43 am</td>\n",
       "      <td>Sasha</td>\n",
       "      <td>Tell me</td>\n",
       "    </tr>\n",
       "    <tr>\n",
       "      <th>...</th>\n",
       "      <td>...</td>\n",
       "      <td>...</td>\n",
       "      <td>...</td>\n",
       "      <td>...</td>\n",
       "    </tr>\n",
       "    <tr>\n",
       "      <th>308</th>\n",
       "      <td>4/1/23</td>\n",
       "      <td>2:13:48 pm</td>\n",
       "      <td>Sasha</td>\n",
       "      <td>hey did you do cloud computing</td>\n",
       "    </tr>\n",
       "    <tr>\n",
       "      <th>309</th>\n",
       "      <td>4/1/23</td>\n",
       "      <td>2:14:10 pm</td>\n",
       "      <td>RA</td>\n",
       "      <td>Lol nop</td>\n",
       "    </tr>\n",
       "    <tr>\n",
       "      <th>310</th>\n",
       "      <td>4/1/23</td>\n",
       "      <td>2:14:36 pm</td>\n",
       "      <td>Sasha</td>\n",
       "      <td>ahaaa</td>\n",
       "    </tr>\n",
       "    <tr>\n",
       "      <th>311</th>\n",
       "      <td>4/1/23</td>\n",
       "      <td>2:14:37 pm</td>\n",
       "      <td>Sasha</td>\n",
       "      <td>okeyy</td>\n",
       "    </tr>\n",
       "    <tr>\n",
       "      <th>312</th>\n",
       "      <td>4/1/23</td>\n",
       "      <td>2:14:49 pm</td>\n",
       "      <td>RA</td>\n",
       "      <td>I heard it was quite hard but pretty useful fo...</td>\n",
       "    </tr>\n",
       "  </tbody>\n",
       "</table>\n",
       "<p>313 rows × 4 columns</p>\n",
       "</div>"
      ],
      "text/plain": [
       "        Date         Time Sender   \n",
       "0     4/4/22   1:14:12 pm  Sasha  \\\n",
       "1     4/4/22   1:14:12 pm  Sasha   \n",
       "2    22/4/22  12:23:07 am     RA   \n",
       "3    22/4/22   7:05:15 am  Sasha   \n",
       "4    22/4/22   7:05:43 am  Sasha   \n",
       "..       ...          ...    ...   \n",
       "308   4/1/23   2:13:48 pm  Sasha   \n",
       "309   4/1/23   2:14:10 pm     RA   \n",
       "310   4/1/23   2:14:36 pm  Sasha   \n",
       "311   4/1/23   2:14:37 pm  Sasha   \n",
       "312   4/1/23   2:14:49 pm     RA   \n",
       "\n",
       "                                               Message  \n",
       "0    ‎Messages and calls are end-to-end encrypted. ...  \n",
       "1                         s3912063@student.rmit.edu.au  \n",
       "2                                                Sasha  \n",
       "3                                                  Hii  \n",
       "4                                              Tell me  \n",
       "..                                                 ...  \n",
       "308                     hey did you do cloud computing  \n",
       "309                                            Lol nop  \n",
       "310                                              ahaaa  \n",
       "311                                              okeyy  \n",
       "312  I heard it was quite hard but pretty useful fo...  \n",
       "\n",
       "[313 rows x 4 columns]"
      ]
     },
     "execution_count": 60,
     "metadata": {},
     "output_type": "execute_result"
    }
   ],
   "source": [
    "import pandas as pd\n",
    "import re\n",
    "\n",
    "def read_conversation(filename):\n",
    "    conversation = []\n",
    "    with open(filename, 'r') as file:\n",
    "        for line in file:\n",
    "            line = line.strip()\n",
    "            match = re.match(r'\\[(.*?)\\] (.*?): (.*)', line)\n",
    "            if match:\n",
    "                timestamp = match.group(1)\n",
    "                date, time = timestamp.split(', ')\n",
    "                sender = match.group(2)\n",
    "                message = match.group(3)\n",
    "                conversation.append({'Date': date, 'Time': time, 'Sender': sender, 'Message': message})\n",
    "    return pd.DataFrame(conversation)\n",
    "\n",
    "\n",
    "filename = 'Sa.txt' \n",
    "df = read_conversation(filename)\n",
    "df"
   ]
  },
  {
   "cell_type": "code",
   "execution_count": 61,
   "id": "8a7535e1",
   "metadata": {},
   "outputs": [
    {
     "data": {
      "text/plain": [
       "313"
      ]
     },
     "execution_count": 61,
     "metadata": {},
     "output_type": "execute_result"
    }
   ],
   "source": [
    "Total_msg = df.shape[0]\n",
    "Total_msg"
   ]
  },
  {
   "cell_type": "code",
   "execution_count": 62,
   "id": "08e778cd",
   "metadata": {},
   "outputs": [
    {
     "name": "stdout",
     "output_type": "stream",
     "text": [
      "0\n"
     ]
    }
   ],
   "source": [
    "media_messages = df[df[\"Message\"]=='<Media omitted>'].shape[0]\n",
    "print(media_messages)"
   ]
  },
  {
   "cell_type": "code",
   "execution_count": 63,
   "id": "abaeb58f",
   "metadata": {},
   "outputs": [
    {
     "name": "stdout",
     "output_type": "stream",
     "text": [
      "Total Emojis: 26\n"
     ]
    }
   ],
   "source": [
    "import pandas as pd\n",
    "import re\n",
    "\n",
    "def extract_emojis(text):\n",
    "    emoji_pattern = re.compile(\"[\"\n",
    "                               u\"\\U0001F600-\\U0001F64F\"  # emoticons\n",
    "                               u\"\\U0001F300-\\U0001F5FF\"  # symbols & pictographs\n",
    "                               u\"\\U0001F680-\\U0001F6FF\"  # transport & map symbols\n",
    "                               u\"\\U0001F1E0-\\U0001F1FF\"  # flags (iOS)\n",
    "                               \"]+\", flags=re.UNICODE)\n",
    "    emojis = re.findall(emoji_pattern, text)\n",
    "    return emojis\n",
    "\n",
    "\n",
    "df['Emojis'] = df['Message'].apply(extract_emojis)\n",
    "total_emojis = sum(df['Emojis'].str.len())\n",
    "\n",
    "print(f\"Total Emojis: {total_emojis}\")"
   ]
  },
  {
   "cell_type": "code",
   "execution_count": 64,
   "id": "081bd546",
   "metadata": {},
   "outputs": [
    {
     "name": "stderr",
     "output_type": "stream",
     "text": [
      "/var/folders/td/3vjbvcbn15zgchwd7z6g2vsm0000gn/T/ipykernel_3513/532481923.py:1: UserWarning: Could not infer format, so each element will be parsed individually, falling back to `dateutil`. To ensure parsing is consistent and as-expected, please specify a format.\n",
      "  df['Date'] = pd.to_datetime(df['Date'], dayfirst=True)\n",
      "/var/folders/td/3vjbvcbn15zgchwd7z6g2vsm0000gn/T/ipykernel_3513/532481923.py:15: UserWarning: FixedFormatter should only be used together with FixedLocator\n",
      "  plt.gca().xaxis.set_major_formatter(plt.FixedFormatter(message_count['Date'].dt.strftime('%d-%b-%y')))\n"
     ]
    },
    {
     "data": {
      "image/png": "[encoded data removed]",
      "text/plain": [
       "<Figure size 432x288 with 1 Axes>"
      ]
     },
     "metadata": {
      "needs_background": "light"
     },
     "output_type": "display_data"
    }
   ],
   "source": [
    "df['Date'] = pd.to_datetime(df['Date'], dayfirst=True)\n",
    "# Count the number of messages per date\n",
    "message_count = df.groupby('Date').size().reset_index(name='Count')\n",
    "\n",
    "# Create a line chart\n",
    "plt.plot(message_count['Date'], message_count['Count'])\n",
    "\n",
    "# Set labels and title\n",
    "plt.xlabel('Date')\n",
    "plt.ylabel('Count')\n",
    "plt.title('WhatsApp Conversation Timeline')\n",
    "\n",
    "# Format x-axis tick labels as date\n",
    "plt.xticks(rotation=45)\n",
    "plt.gca().xaxis.set_major_formatter(plt.FixedFormatter(message_count['Date'].dt.strftime('%d-%b-%y')))\n",
    "\n",
    "# Display the chart\n",
    "plt.tight_layout()\n",
    "plt.show()"
   ]
  },
  {
   "cell_type": "code",
   "execution_count": 67,
   "id": "061ec3f8",
   "metadata": {},
   "outputs": [
    {
     "name": "stderr",
     "output_type": "stream",
     "text": [
      "/var/folders/td/3vjbvcbn15zgchwd7z6g2vsm0000gn/T/ipykernel_3513/2369025640.py:5: UserWarning: Could not infer format, so each element will be parsed individually, falling back to `dateutil`. To ensure parsing is consistent and as-expected, please specify a format.\n",
      "  df['Time'] = pd.to_datetime(df['Time'])\n",
      "/var/folders/td/3vjbvcbn15zgchwd7z6g2vsm0000gn/T/ipykernel_3513/2369025640.py:20: UserWarning: FixedFormatter should only be used together with FixedLocator\n",
      "  plt.gca().xaxis.set_major_formatter(plt.FixedFormatter(df['Time'].dt.strftime('%H:%M:%S %p')))\n"
     ]
    },
    {
     "data": {
      "image/png": "[encoded data removed]",
      "text/plain": [
       "<Figure size 432x288 with 1 Axes>"
      ]
     },
     "metadata": {
      "needs_background": "light"
     },
     "output_type": "display_data"
    }
   ],
   "source": [
    "import matplotlib.pyplot as plt\n",
    "import pandas as pd\n",
    "\n",
    "# Assuming you already have a DataFrame named df with 'Time' column in datetime format\n",
    "df['Time'] = pd.to_datetime(df['Time'])\n",
    "\n",
    "# Group by 'Time' and count the number of messages\n",
    "message_count = df.groupby('Time').size().reset_index(name='Count')\n",
    "\n",
    "# Create a line chart\n",
    "plt.plot(message_count['Time'], message_count['Count'])\n",
    "\n",
    "# Set labels and title\n",
    "plt.xlabel('Time')\n",
    "plt.ylabel('Message Count')\n",
    "plt.title('WhatsApp Conversation Timeline')\n",
    "\n",
    "# Format x-axis tick labels as time\n",
    "plt.xticks(rotation=45)\n",
    "plt.gca().xaxis.set_major_formatter(plt.FixedFormatter(df['Time'].dt.strftime('%H:%M:%S %p')))\n",
    "\n",
    "# Display the chart\n",
    "plt.tight_layout()\n",
    "plt.show()\n"
   ]
  },
  {
   "cell_type": "markdown",
   "id": "18a9bdd5",
   "metadata": {},
   "source": [
    "## The most frequent words: "
   ]
  },
  {
   "cell_type": "code",
   "execution_count": 91,
   "id": "66829355",
   "metadata": {},
   "outputs": [
    {
     "data": {
      "image/png": "[encoded data removed]",
      "text/plain": [
       "<Figure size 432x288 with 1 Axes>"
      ]
     },
     "metadata": {
      "needs_background": "light"
     },
     "output_type": "display_data"
    }
   ],
   "source": [
    "import pandas as pd\n",
    "import matplotlib.pyplot as plt\n",
    "from collections import Counter\n",
    "from nltk.corpus import stopwords\n",
    "from nltk.tokenize import word_tokenize\n",
    "import string\n",
    "\n",
    "# Assuming you have a DataFrame named df with a 'Message' column\n",
    "\n",
    "# Concatenate all the messages into a single string\n",
    "all_messages = ' '.join(df['Message'])\n",
    "\n",
    "# Tokenize the string into individual words\n",
    "tokens = word_tokenize(all_messages)\n",
    "\n",
    "# Remove stopwords and symbols\n",
    "stop_words = set(stopwords.words('english'))\n",
    "symbols = set(string.punctuation)\n",
    "filtered_tokens = [word for word in tokens if word.lower() not in stop_words and word not in symbols]\n",
    "\n",
    "# Count the occurrences of each word\n",
    "word_counts = Counter(filtered_tokens)\n",
    "\n",
    "# Get the most common words and their counts\n",
    "most_common_words = word_counts.most_common(10)  # Change the number to get more or fewer common words\n",
    "\n",
    "# Extract the words and counts for plotting\n",
    "words = [word for word, count in most_common_words]\n",
    "counts = [count for word, count in most_common_words]\n",
    "\n",
    "# Create a bar chart\n",
    "plt.bar(words, counts)\n",
    "\n",
    "# Set labels and title\n",
    "plt.xlabel('Words')\n",
    "plt.ylabel('Count')\n",
    "plt.title('Most Common Words in Chat (Excluding Stopwords and Symbols)')\n",
    "\n",
    "# Rotate x-axis labels for better visibility\n",
    "plt.xticks(rotation=45)\n",
    "\n",
    "# Display the chart\n",
    "plt.tight_layout()\n",
    "plt.show()\n"
   ]
  },
  {
   "cell_type": "markdown",
   "id": "9853ce0b",
   "metadata": {},
   "source": [
    "## Who Participants the most "
   ]
  },
  {
   "cell_type": "code",
   "execution_count": 93,
   "id": "2aded01e",
   "metadata": {},
   "outputs": [
    {
     "data": {
      "image/png": "[encoded data removed]",
      "text/plain": [
       "<Figure size 432x288 with 1 Axes>"
      ]
     },
     "metadata": {
      "needs_background": "light"
     },
     "output_type": "display_data"
    }
   ],
   "source": [
    "import pandas as pd\n",
    "import matplotlib.pyplot as plt\n",
    "\n",
    "# Assuming you have a DataFrame named df with 'Sender' column\n",
    "\n",
    "# Count the number of messages sent by each sender\n",
    "sender_counts = df['Sender'].value_counts()\n",
    "\n",
    "# Get the top two senders who talked the most\n",
    "top_senders = sender_counts.head(2)\n",
    "\n",
    "# Create a bar chart\n",
    "plt.bar(top_senders.index, top_senders.values)\n",
    "\n",
    "# Set labels and title\n",
    "plt.xlabel('Sender')\n",
    "plt.ylabel('Message Count')\n",
    "plt.title('Top Two Senders in Chat')\n",
    "\n",
    "# Display the chart\n",
    "plt.tight_layout()\n",
    "plt.show()"
   ]
  },
  {
   "cell_type": "markdown",
   "id": "58e9a853",
   "metadata": {},
   "source": [
    "## Who is the funner: \n",
    "To determine who was the funnier person in the conversation, we can analyze the content of the messages and identify the sender with the most humorous or funny messages. One way to approach this is by using sentiment analysis on the messages and assigning a humor score to each sender."
   ]
  },
  {
   "cell_type": "code",
   "execution_count": 82,
   "id": "ffe7ffdc",
   "metadata": {
    "scrolled": true
   },
   "outputs": [
    {
     "data": {
      "image/png": "[encoded data removed]",
      "text/plain": [
       "<Figure size 432x288 with 1 Axes>"
      ]
     },
     "metadata": {
      "needs_background": "light"
     },
     "output_type": "display_data"
    }
   ],
   "source": [
    "from textblob import TextBlob\n",
    "import pandas as pd\n",
    "import matplotlib.pyplot as plt\n",
    "\n",
    "# Assuming you have a DataFrame named df with 'Sender' and 'Message' columns\n",
    "\n",
    "# Perform sentiment analysis on the messages\n",
    "df['Sentiment'] = df['Message'].apply(lambda x: TextBlob(x).sentiment.polarity)\n",
    "\n",
    "# Calculate the mean sentiment score for each sender\n",
    "sender_sentiment = df.groupby('Sender')['Sentiment'].mean()\n",
    "\n",
    "# Identify the sender with the highest mean sentiment score\n",
    "funnier_sender = sender_sentiment.idxmax()\n",
    "\n",
    "# Create a bar chart of the mean sentiment scores\n",
    "plt.bar(sender_sentiment.index, sender_sentiment.values)\n",
    "\n",
    "# Set labels and title\n",
    "plt.xlabel('Sender')\n",
    "plt.ylabel('Mean Sentiment Score')\n",
    "plt.title('Humor Score by Sender')\n",
    "\n",
    "# Highlight the sender with the highest mean sentiment score\n",
    "plt.axhline(y=sender_sentiment[funnier_sender], color='r', linestyle='--', label='Funniest')\n",
    "\n",
    "# Display the chart\n",
    "plt.tight_layout()\n",
    "plt.legend()\n",
    "plt.show()\n"
   ]
  },
  {
   "cell_type": "markdown",
   "id": "134da28b",
   "metadata": {},
   "source": [
    "## Who is the Sadder:\n",
    "To determine who was the sadder person in the conversation, we can analyze the sentiment of the messages and identify the sender with the lowest sentiment scores. Lower sentiment scores generally indicate more negative or sad sentiment in the messages."
   ]
  },
  {
   "cell_type": "code",
   "execution_count": 83,
   "id": "c68a861f",
   "metadata": {},
   "outputs": [
    {
     "data": {
      "image/png": "[encoded data removed]",
      "text/plain": [
       "<Figure size 432x288 with 1 Axes>"
      ]
     },
     "metadata": {
      "needs_background": "light"
     },
     "output_type": "display_data"
    }
   ],
   "source": [
    "from textblob import TextBlob\n",
    "import pandas as pd\n",
    "import matplotlib.pyplot as plt\n",
    "\n",
    "# Assuming you have a DataFrame named df with 'Sender' and 'Message' columns\n",
    "\n",
    "# Perform sentiment analysis on the messages\n",
    "df['Sentiment'] = df['Message'].apply(lambda x: TextBlob(x).sentiment.polarity)\n",
    "\n",
    "# Calculate the mean sentiment score for each sender\n",
    "sender_sentiment = df.groupby('Sender')['Sentiment'].mean()\n",
    "\n",
    "# Identify the sender with the lowest mean sentiment score\n",
    "sadder_sender = sender_sentiment.idxmin()\n",
    "\n",
    "# Create a bar chart of the mean sentiment scores\n",
    "plt.bar(sender_sentiment.index, sender_sentiment.values)\n",
    "\n",
    "# Set labels and title\n",
    "plt.xlabel('Sender')\n",
    "plt.ylabel('Mean Sentiment Score')\n",
    "plt.title('Sentiment Score by Sender')\n",
    "\n",
    "# Highlight the sender with the lowest mean sentiment score\n",
    "plt.axhline(y=sender_sentiment[sadder_sender], color='r', linestyle='--', label='Sadder')\n",
    "\n",
    "# Display the chart\n",
    "plt.tight_layout()\n",
    "plt.legend()\n",
    "plt.show()\n"
   ]
  },
  {
   "cell_type": "markdown",
   "id": "ab0b44b0",
   "metadata": {},
   "source": [
    "## The most frequent words per each Sender:"
   ]
  },
  {
   "cell_type": "code",
   "execution_count": 90,
   "id": "d6e8de62",
   "metadata": {},
   "outputs": [
    {
     "data": {
      "image/png": "[encoded data removed]",
      "text/plain": [
       "<Figure size 720x432 with 1 Axes>"
      ]
     },
     "metadata": {
      "needs_background": "light"
     },
     "output_type": "display_data"
    },
    {
     "data": {
      "image/png": "[encoded data removed]",
      "text/plain": [
       "<Figure size 432x288 with 1 Axes>"
      ]
     },
     "metadata": {
      "needs_background": "light"
     },
     "output_type": "display_data"
    }
   ],
   "source": [
    "from collections import Counter\n",
    "import pandas as pd\n",
    "import matplotlib.pyplot as plt\n",
    "from nltk.corpus import stopwords\n",
    "from nltk.tokenize import word_tokenize\n",
    "import string\n",
    "\n",
    "# Assuming you have a DataFrame named df with 'Sender' and 'Message' columns\n",
    "\n",
    "stop_words = set(stopwords.words('english'))\n",
    "punctuation = set(string.punctuation) - set('.')\n",
    "additional_chars = {'.'}\n",
    "\n",
    "def find_most_frequent_words(messages):\n",
    "    all_text = ' '.join(messages)\n",
    "    words = word_tokenize(all_text)\n",
    "    words = [word for word in words if word.lower() not in stop_words and word not in punctuation and word not in additional_chars]\n",
    "    word_counts = Counter(words)\n",
    "    most_common_words = word_counts.most_common(10)  # Retrieve only the top 10 words\n",
    "    return most_common_words\n",
    "\n",
    "sender_frequent_words = df.groupby('Sender')['Message'].apply(find_most_frequent_words)\n",
    "\n",
    "# Set a larger figure size\n",
    "plt.figure(figsize=(10, 6))\n",
    "\n",
    "for sender, frequent_words in sender_frequent_words.items():\n",
    "    words, counts = zip(*frequent_words)\n",
    "    plt.bar(words, counts)\n",
    "    plt.xlabel('Words')\n",
    "    plt.ylabel('Frequency')\n",
    "    plt.title(f\"Top 10 Most Frequent Non-Stop Words (No Symbols or Periods) for {sender}\")\n",
    "    plt.xticks(rotation=45)\n",
    "    plt.tight_layout()\n",
    "    plt.show()\n"
   ]
  }
 ],
 "metadata": {
  "kernelspec": {
   "display_name": "Python 3 (ipykernel)",
   "language": "python",
   "name": "python3"
  },
  "language_info": {
   "codemirror_mode": {
    "name": "ipython",
    "version": 3
   },
   "file_extension": ".py",
   "mimetype": "text/x-python",
   "name": "python",
   "nbconvert_exporter": "python",
   "pygments_lexer": "ipython3",
   "version": "3.9.7"
  }
 },
 "nbformat": 4,
 "nbformat_minor": 5
}
